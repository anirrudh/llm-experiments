{
 "cells": [
  {
   "cell_type": "markdown",
   "id": "0d580a72-70ca-4e50-8aa1-898c32d2e49e",
   "metadata": {},
   "source": [
    "# Loading Starcoder Plus on Single GPU "
   ]
  },
  {
   "cell_type": "code",
   "execution_count": 1,
   "id": "55875e11-3b62-453f-a6ce-01debb3b2f37",
   "metadata": {},
   "outputs": [],
   "source": [
    "import pathlib\n",
    "from llm_utilities.load_backend import initialize_backend\n",
    "from llm_utilities.model_fit import LLModels\n",
    "\n",
    "from transformers import AutoTokenizer, AutoModelForCausalLM, BitsAndBytesConfig"
   ]
  },
  {
   "cell_type": "code",
   "execution_count": null,
   "id": "04d6c752-c42c-4159-8d9b-76317eb71496",
   "metadata": {},
   "outputs": [],
   "source": [
    "backend = initialize_backend()\n",
    "m = LLModels(path=pathlib.Path.home().joinpath(\"GAI/Models/\"))\n",
    "m.list_models()"
   ]
  },
  {
   "cell_type": "code",
   "execution_count": null,
   "id": "0331a870-cba1-40d4-acab-e7e8fbec8a6d",
   "metadata": {},
   "outputs": [],
   "source": [
    "scp = m.models['starcoderplus']['path']"
   ]
  },
  {
   "cell_type": "code",
   "execution_count": null,
   "id": "27d9756d-6692-48ff-b824-a4aaeebe6d52",
   "metadata": {},
   "outputs": [],
   "source": [
    "tokenizer = AutoTokenizer.from_pretrained(scp)\n",
    "quantization_config = BitsAndBytesConfig(llm_int8_enable_fp32_cpu_offload=True)"
   ]
  },
  {
   "cell_type": "code",
   "execution_count": null,
   "id": "44af4105-8bc2-4449-8d17-6f837edfd32f",
   "metadata": {},
   "outputs": [],
   "source": []
  }
 ],
 "metadata": {
  "kernelspec": {
   "display_name": "Python 3 (ipykernel)",
   "language": "python",
   "name": "python3"
  },
  "language_info": {
   "codemirror_mode": {
    "name": "ipython",
    "version": 3
   },
   "file_extension": ".py",
   "mimetype": "text/x-python",
   "name": "python",
   "nbconvert_exporter": "python",
   "pygments_lexer": "ipython3",
   "version": "3.11.3"
  }
 },
 "nbformat": 4,
 "nbformat_minor": 5
}
