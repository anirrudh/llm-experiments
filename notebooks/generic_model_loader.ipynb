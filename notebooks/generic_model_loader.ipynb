{
 "cells": [
  {
   "cell_type": "markdown",
   "id": "05df8660-aaeb-4fd3-b4b8-caecc8d0cb52",
   "metadata": {},
   "source": [
    "# Generic Model Loader\n",
    "\n",
    "Given a filepath, this notebook will use the utilities to try and find the best way to load a model\n",
    "with the given hardware. "
   ]
  },
  {
   "cell_type": "code",
   "execution_count": null,
   "id": "75c9b4dd-d73b-43c6-8431-2dd8cb931ef5",
   "metadata": {},
   "outputs": [],
   "source": [
    "from llm_utilities.load_backend import initialize_backend\n",
    "from llm_utilities.model_fit import LLModels"
   ]
  },
  {
   "cell_type": "code",
   "execution_count": null,
   "id": "469b41ba-6145-4b4e-bc83-6072281b0077",
   "metadata": {},
   "outputs": [],
   "source": [
    "backend = initialize_backend()\n",
    "backend"
   ]
  },
  {
   "cell_type": "code",
   "execution_count": null,
   "id": "a296841e-c392-47e7-9220-83400935f8df",
   "metadata": {},
   "outputs": [],
   "source": [
    "# Give the parent model folder containing all models to this class.\n",
    "models = LLModels(path=pathlib.Path.home(\"GAI/Models\"))"
   ]
  }
 ],
 "metadata": {
  "kernelspec": {
   "display_name": "Python 3 (ipykernel)",
   "language": "python",
   "name": "python3"
  },
  "language_info": {
   "codemirror_mode": {
    "name": "ipython",
    "version": 3
   },
   "file_extension": ".py",
   "mimetype": "text/x-python",
   "name": "python",
   "nbconvert_exporter": "python",
   "pygments_lexer": "ipython3",
   "version": "3.11.3"
  }
 },
 "nbformat": 4,
 "nbformat_minor": 5
}
